{
 "cells": [
  {
   "cell_type": "code",
   "execution_count": 1,
   "id": "a769fd52-fec7-4347-b6bf-b57608522f19",
   "metadata": {},
   "outputs": [],
   "source": [
    "import sympy\n",
    "from sympy.parsing.sympy_parser import parse_expr\n",
    "from ipywidgets import interact, FloatRangeSlider\n",
    "import plotnine as p9\n",
    "import pandas as pd\n",
    "from math import pi"
   ]
  },
  {
   "cell_type": "code",
   "execution_count": 2,
   "id": "e69910f6-c7b9-4b79-90fd-dc4733bdc245",
   "metadata": {},
   "outputs": [],
   "source": [
    "x = sympy.Symbol('x')"
   ]
  },
  {
   "cell_type": "code",
   "execution_count": 3,
   "id": "a68e116f-f7aa-4582-994c-bd2fbe1ffac0",
   "metadata": {},
   "outputs": [],
   "source": [
    "def factorial(n):\n",
    "    \"\"\"\n",
    "        Calculates factorial\n",
    "    \"\"\"\n",
    "    result = n\n",
    "    if n == 1 or n == 0:\n",
    "        return 1\n",
    "    while n > 1:\n",
    "        result *= (n-1)\n",
    "        n -= 1\n",
    "    return result"
   ]
  },
  {
   "cell_type": "code",
   "execution_count": 4,
   "id": "957909f6-b2a6-4b8f-a5e2-a4852fab2a16",
   "metadata": {},
   "outputs": [],
   "source": [
    "def n_derivative(expression, n: int):\n",
    "    \"\"\"\n",
    "        Calculates n'th derivative\n",
    "    \"\"\"\n",
    "    derivative = expression\n",
    "    while n > 0:\n",
    "        derivative = sympy.diff(derivative)\n",
    "        n -= 1\n",
    "    return derivative"
   ]
  },
  {
   "cell_type": "code",
   "execution_count": 5,
   "id": "5008c45c-8ae7-48ae-a20d-e608aaa0e694",
   "metadata": {},
   "outputs": [
    {
     "data": {
      "text/latex": [
       "$\\displaystyle 0.0416666666666667 x^{4} - 0.5 x^{2} + 1.0$"
      ],
      "text/plain": [
       "0.0416666666666667*x**4 - 0.5*x**2 + 1.0"
      ]
     },
     "execution_count": 5,
     "metadata": {},
     "output_type": "execute_result"
    }
   ],
   "source": [
    "def taylor_series(expression, n: int, around: float):\n",
    "    \"\"\"\n",
    "        Calculates Taylor series\n",
    "        n - order / number of terms\n",
    "        around - approximation around certain point; real or complex number\n",
    "    \"\"\"\n",
    "    derr_sum = 0\n",
    "    while n >= 0:\n",
    "        derr_sum += (\n",
    "            n_derivative(expression, n).evalf(subs={'x': around})\n",
    "            * ((x - around) ** n)\n",
    "            / factorial(n)\n",
    "        )\n",
    "        n -= 1\n",
    "    return derr_sum\n",
    "\n",
    "\n",
    "taylor_series(sympy.cos(x), 4, 0)"
   ]
  },
  {
   "cell_type": "raw",
   "id": "1db89b1f-6a14-4295-8e05-a9f82504a1d6",
   "metadata": {},
   "source": [
    "%pip install plotnine"
   ]
  },
  {
   "cell_type": "code",
   "execution_count": 6,
   "id": "7ad338f8-d64f-40f6-bed2-de4e6b4fa9ae",
   "metadata": {},
   "outputs": [
    {
     "data": {
      "text/plain": [
       "sympy.core.function.FunctionClass"
      ]
     },
     "execution_count": 6,
     "metadata": {},
     "output_type": "execute_result"
    }
   ],
   "source": [
    "type(type(sympy.sin(x)))"
   ]
  },
  {
   "cell_type": "code",
   "execution_count": 7,
   "id": "ba1702c1-4fe0-4d03-9913-a489853353b2",
   "metadata": {},
   "outputs": [],
   "source": [
    "def create_dataset(expression, n, around):\n",
    "    \"\"\"\n",
    "        \n",
    "    \"\"\"\n",
    "    a = pd.Series(range(0, 1000+1, 1))/1000 * 4 * pi - 2 * pi\n",
    "    expr = parse_expr(expression)\n",
    "    def evaluate(x):\n",
    "        return float(expr.evalf(subs={'x': x}))\n",
    "    sin_data = pd.DataFrame(data={\n",
    "        # create sample data\n",
    "        'x': a,\n",
    "        'f(x)': a.apply(evaluate),\n",
    "        \"f_approx\": a.apply(\n",
    "            sympy.lambdify(\n",
    "                x,\n",
    "                taylor_series(\n",
    "                    expression=expr,\n",
    "                    n=n,\n",
    "                    around=around\n",
    "                )\n",
    "            )\n",
    "        )\n",
    "    })\n",
    "    return sin_data"
   ]
  },
  {
   "cell_type": "code",
   "execution_count": 8,
   "id": "c059bbdc-c47e-42d2-979a-c2ac5f32a674",
   "metadata": {
    "tags": []
   },
   "outputs": [
    {
     "data": {
      "application/vnd.jupyter.widget-view+json": {
       "model_id": "00e473dd43ae43e293d7a38449b3eac1",
       "version_major": 2,
       "version_minor": 0
      },
      "text/plain": [
       "interactive(children=(Text(value='sin(x)', description='expression'), IntSlider(value=5, description='n', max=…"
      ]
     },
     "metadata": {},
     "output_type": "display_data"
    }
   ],
   "source": [
    "@interact(\n",
    "    expression='sin(x)',\n",
    "    n=(0, 10, 1),\n",
    "    around=(-4, 4, 0.1),\n",
    "    y_display_range=FloatRangeSlider(\n",
    "        value=[-1.5, 1.5],\n",
    "        min=-10.0,\n",
    "        max=10.0,\n",
    "        step=0.5,\n",
    "        description='Y axis range'\n",
    "    )\n",
    ")\n",
    "def create_plot(expression, n, around, y_display_range):\n",
    "    data = create_dataset(expression, n, around)\n",
    "    y_values = data[['f_approx', 'f(x)']]\n",
    "    data = data[\n",
    "        (y_values.min(axis=1) > y_display_range[0])\n",
    "        &\n",
    "        (y_values.max(axis=1) < y_display_range[1])\n",
    "    ]\n",
    "    plot = (\n",
    "        p9.ggplot(data=data)\n",
    "        + p9.aes(x=\"x\")\n",
    "        + p9.geom_point(color=\"red\", mapping=p9.aes(y=\"f(x)\"))\n",
    "        + p9.geom_point(color=\"blue\", alpha=0.15, mapping=p9.aes(y=\"f_approx\"))\n",
    "        + p9.ylim(y_display_range)\n",
    "    )\n",
    "    plot.draw()"
   ]
  }
 ],
 "metadata": {
  "citation-manager": {
   "items": {}
  },
  "kernelspec": {
   "display_name": "Python 3",
   "language": "python",
   "name": "python3"
  },
  "language_info": {
   "codemirror_mode": {
    "name": "ipython",
    "version": 3
   },
   "file_extension": ".py",
   "mimetype": "text/x-python",
   "name": "python",
   "nbconvert_exporter": "python",
   "pygments_lexer": "ipython3",
   "version": "3.8.9"
  }
 },
 "nbformat": 4,
 "nbformat_minor": 5
}
